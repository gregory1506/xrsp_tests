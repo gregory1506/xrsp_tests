{
 "cells": [
  {
   "cell_type": "code",
   "execution_count": null,
   "metadata": {},
   "outputs": [],
   "source": [
    "import urllib.request\n",
    "import xarray as xr\n",
    "from xrspatial import ndvi\n",
    "import datashader as ds\n",
    "from datashader.transfer_functions import shade\n",
    "from datashader import transfer_functions as tf\n",
    "from colorcet import palette\n",
    "import json\n",
    "import matplotlib.pyplot as plt\n",
    "import holoviews as hv\n",
    "from holoviews import opts\n",
    "hv.extension('bokeh', width=80)\n",
    "from holoviews.operation.datashader import regrid, shade\n",
    "import numpy as np\n",
    "def load_scale_factors(filename, band_number):\n",
    "    with open(filename) as f:\n",
    "        metadata = json.load(f)\n",
    "    M_p = metadata['L1_METADATA_FILE'] \\\n",
    "                  ['RADIOMETRIC_RESCALING'] \\\n",
    "                  ['REFLECTANCE_MULT_BAND_{}'.format(band_number)]\n",
    "    A_p = metadata['L1_METADATA_FILE'] \\\n",
    "                  ['RADIOMETRIC_RESCALING'] \\\n",
    "                  ['REFLECTANCE_ADD_BAND_{}'.format(band_number)]\n",
    "    return M_p, A_p\n",
    "def calculate_reflectance(ds, band_number, metafile='data/LC08_L1TP_042034_20170616_20170629_01_T1_MTL.json'):\n",
    "    M_p, A_p = load_scale_factors(metafile, band_number)\n",
    "    toa = M_p * ds + A_p\n",
    "    return toa"
   ]
  },
  {
   "cell_type": "code",
   "execution_count": null,
   "metadata": {},
   "outputs": [],
   "source": [
    "url = 'http://landsat-pds.s3.amazonaws.com/c1/L8/042/034/LC08_L1TP_042034_20170616_20170629_01_T1/'\n",
    "redband = 'LC08_L1TP_042034_20170616_20170629_01_T1_B{}.TIF'.format(4)\n",
    "nirband = 'LC08_L1TP_042034_20170616_20170629_01_T1_B{}.TIF'.format(5)\n",
    "mtlfile = 'LC08_L1TP_042034_20170616_20170629_01_T1_MTL.json'"
   ]
  },
  {
   "cell_type": "code",
   "execution_count": null,
   "metadata": {},
   "outputs": [],
   "source": [
    "path2data = \"data/\""
   ]
  },
  {
   "cell_type": "code",
   "execution_count": null,
   "metadata": {},
   "outputs": [],
   "source": [
    "urllib.request.urlretrieve(url+redband, path2data+redband)"
   ]
  },
  {
   "cell_type": "code",
   "execution_count": null,
   "metadata": {},
   "outputs": [],
   "source": [
    "urllib.request.urlretrieve(url+nirband, path2data+nirband)"
   ]
  },
  {
   "cell_type": "code",
   "execution_count": null,
   "metadata": {},
   "outputs": [],
   "source": [
    "urllib.request.urlretrieve(url+mtlfile, path2data+mtlfile)"
   ]
  },
  {
   "cell_type": "code",
   "execution_count": null,
   "metadata": {},
   "outputs": [],
   "source": [
    "red = xr.open_rasterio(\"data/LC08_L1TP_042034_20170616_20170629_01_T1_B4.TIF\")\n",
    "nir = xr.open_rasterio(\"data/LC08_L1TP_042034_20170616_20170629_01_T1_B5.TIF\")\n",
    "red_toa = calculate_reflectance(red, band_number=4)\n",
    "nir_toa = calculate_reflectance(nir, band_number=5)\n",
    "ndvi = (nir_toa - red_toa) / (nir_toa + red_toa)"
   ]
  },
  {
   "cell_type": "code",
   "execution_count": null,
   "metadata": {},
   "outputs": [],
   "source": [
    "plt.figure()\n",
    "im = ndvi.squeeze().compute().plot.imshow(cmap='BrBG', vmin=-0.5, vmax=1)\n",
    "plt.axis('equal')\n",
    "plt.show()"
   ]
  },
  {
   "cell_type": "code",
   "execution_count": null,
   "metadata": {},
   "outputs": [],
   "source": [
    "opts.defaults(opts.RGB(width=600, height=600))\n",
    "\n",
    "nodata= 1\n",
    "\n",
    "def one_band(b):\n",
    "    xs, ys = b['x'], b['y']\n",
    "    b = ds.utils.orient_array(b)\n",
    "    a = (np.where(np.logical_or(np.isnan(b),b<=nodata),0,255)).astype(np.uint8)    \n",
    "    col, rows = b.shape\n",
    "    return hv.RGB((xs, ys[::-1], b, b, b, a), vdims=list('RGBA'))"
   ]
  },
  {
   "cell_type": "code",
   "execution_count": null,
   "metadata": {},
   "outputs": [],
   "source": [
    "shade(regrid(one_band(ndvi[0])), cmap=['black', 'white']).redim(x='Longitude', y='Latitude') + \\\n",
    "shade(regrid(one_band(ndvi[0])), cmap=['red', 'blue','green','white']).redim(x='Longitude', y='Latitude')"
   ]
  },
  {
   "cell_type": "code",
   "execution_count": null,
   "metadata": {},
   "outputs": [],
   "source": [
    "# shade(ndvi[0], cmap=['black', 'white']).redim(x='Longitude', y='Latitude')\n",
    "shade(one_band(ndvi[0])).redim(x='Longitude', y='Latitude')"
   ]
  },
  {
   "cell_type": "code",
   "execution_count": null,
   "metadata": {},
   "outputs": [],
   "source": [
    "from xrspatial import hillshade"
   ]
  },
  {
   "cell_type": "code",
   "execution_count": null,
   "metadata": {},
   "outputs": [],
   "source": [
    "from datashader.colors import Elevation\n",
    "shade(regrid(one_band(ndvi[0])), cmap=Elevation).redim(x='Longitude', y='Latitude')"
   ]
  },
  {
   "cell_type": "code",
   "execution_count": null,
   "metadata": {},
   "outputs": [],
   "source": [
    "hillshaded = hillshade(ndvi[0])"
   ]
  },
  {
   "cell_type": "code",
   "execution_count": null,
   "metadata": {},
   "outputs": [],
   "source": [
    "shade(regrid(one_band(ndvi[0])), cmap=['white','black']).redim(x='Longitude', y='Latitude') +\\\n",
    "shade(regrid(one_band(hillshaded)), cmap=['white','black']).redim(x='Longitude', y='Latitude')"
   ]
  },
  {
   "cell_type": "code",
   "execution_count": null,
   "metadata": {},
   "outputs": [],
   "source": [
    "from datashader.transfer_functions import stack\n",
    "from datashader.transfer_functions import dynspread\n",
    "from datashader.transfer_functions import set_background"
   ]
  },
  {
   "cell_type": "code",
   "execution_count": null,
   "metadata": {},
   "outputs": [],
   "source": [
    "stack(shade(regrid(one_band(ndvi[0])), cmap=['gray', 'white'], alpha=255, how='linear'),\n",
    "      shade(regrid(one_band(hillshaded)), cmap=Elevation, alpha=128, how='linear'))"
   ]
  },
  {
   "cell_type": "code",
   "execution_count": null,
   "metadata": {},
   "outputs": [],
   "source": [
    "stack(shade(regrid(one_band(ndvi[0])), cmap=['gray', 'white'], alpha=255),shade(regrid(one_band(hillshaded)), cmap=Elevation, alpha=128))"
   ]
  },
  {
   "cell_type": "code",
   "execution_count": null,
   "metadata": {},
   "outputs": [],
   "source": []
  }
 ],
 "metadata": {
  "kernelspec": {
   "display_name": "Python 3",
   "language": "python",
   "name": "python3"
  },
  "language_info": {
   "codemirror_mode": {
    "name": "ipython",
    "version": 3
   },
   "file_extension": ".py",
   "mimetype": "text/x-python",
   "name": "python",
   "nbconvert_exporter": "python",
   "pygments_lexer": "ipython3",
   "version": "3.8.8"
  }
 },
 "nbformat": 4,
 "nbformat_minor": 4
}
